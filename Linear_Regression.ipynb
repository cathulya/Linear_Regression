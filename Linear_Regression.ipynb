{
  "nbformat": 4,
  "nbformat_minor": 0,
  "metadata": {
    "colab": {
      "provenance": []
    },
    "kernelspec": {
      "name": "python3",
      "display_name": "Python 3"
    },
    "language_info": {
      "name": "python"
    }
  },
  "cells": [
    {
      "cell_type": "code",
      "source": [
        "import numpy as np\n",
        "import matplotlib.pyplot as plt\n",
        "import math"
      ],
      "metadata": {
        "id": "mOaJ8Xx9rY7c"
      },
      "execution_count": 18,
      "outputs": []
    },
    {
      "cell_type": "code",
      "execution_count": 30,
      "metadata": {
        "colab": {
          "base_uri": "https://localhost:8080/",
          "height": 472
        },
        "id": "fd31PVkZrOWW",
        "outputId": "12904029-e829-4473-c05b-eb835abcc7ac"
      },
      "outputs": [
        {
          "output_type": "display_data",
          "data": {
            "text/plain": [
              "<Figure size 640x480 with 1 Axes>"
            ],
            "image/png": "[encoded data removed]"
          },
          "metadata": {}
        }
      ],
      "source": [
        "x_train=np.array([2,3,4,3.4,2.2,1.8,1.5,5.6,6,7])\n",
        "y_train=np.array([20,40,50,44,32,18,15,56,65,76])\n",
        "plt.scatter(x_train,y_train,marker='*',c='g')\n",
        "plt.title(\"DATA SET\")\n",
        "plt.xlabel(\"House Sizes\")\n",
        "plt.ylabel(\"Prices\")\n",
        "plt.show()"
      ]
    },
    {
      "cell_type": "markdown",
      "source": [
        "# **COST_FUNCTION**"
      ],
      "metadata": {
        "id": "BopLqmtITda2"
      }
    },
    {
      "cell_type": "code",
      "source": [
        "def cost_function(x,y,w,b):\n",
        "  m=x_train.shape[0]\n",
        "  sum_cost=0\n",
        "  for i in range(m):\n",
        "    f_wb=w*x[i]+b\n",
        "    squared_cost=(f_wb-y[i])**2\n",
        "    sum_cost+=squared_cost\n",
        "  total_cost=(1/(2*m))*sum_cost\n",
        "  return total_cost"
      ],
      "metadata": {
        "id": "mqMAtHnWtdYF"
      },
      "execution_count": 20,
      "outputs": []
    },
    {
      "cell_type": "markdown",
      "source": [
        "***GRADIENT FUNCTION***"
      ],
      "metadata": {
        "id": "4qAmINK2Ti-q"
      }
    },
    {
      "cell_type": "code",
      "source": [
        "def gradient_function(x,y,w,b):\n",
        "  dw=0\n",
        "  db=0\n",
        "  m=x_train.shape[0]\n",
        "  for i in range(m):\n",
        "    f_wb=w*x[i]+b\n",
        "    dw_i=(f_wb-y[i])*x[i]\n",
        "    db_i=f_wb-y[i]\n",
        "    dw=dw+dw_i\n",
        "    db=db+db_i\n",
        "  dw=dw/m\n",
        "  db=db/m\n",
        "  return dw,db"
      ],
      "metadata": {
        "id": "MnduW9dCvKz1"
      },
      "execution_count": 21,
      "outputs": []
    },
    {
      "cell_type": "markdown",
      "source": [
        "# **GRADIENT DESCENT**"
      ],
      "metadata": {
        "id": "gQaba4_xTz8T"
      }
    },
    {
      "cell_type": "code",
      "source": [
        "def gradient_descent(x,y,w,b,alpha,epochs,cost_function,gradient_function):\n",
        "\n",
        "  cost_his=[]\n",
        "  parameter_his=[]\n",
        "  for i in range(epochs):\n",
        "    dw,db=gradient_function(x,y,w,b)\n",
        "    w=w-alpha*dw\n",
        "    b=b-alpha*db\n",
        "    if i<10000:\n",
        "      cost_his.append(cost_function(x,y,w,b))\n",
        "      parameter_his.append([w,b])\n",
        "    if i% math.ceil(epochs/10) == 0:\n",
        "\n",
        "      print(f\"Epoch:{i},cost:{cost_his[-1]},dw:{dw},db:{db},w:{w},b:{b}\")\n",
        "  return w,b,cost_his,parameter_his"
      ],
      "metadata": {
        "id": "V--tTCPgwMpW"
      },
      "execution_count": 42,
      "outputs": []
    },
    {
      "cell_type": "code",
      "source": [
        "w_init=0\n",
        "b_init=0\n",
        "epochs=10000\n",
        "alpha_t= 1.0e-2\n",
        "w_final,b_final,cost_his1,parameter_his1=gradient_descent(x_train,y_train,w_init,b_init,alpha_t,epochs,cost_function,gradient_function)\n",
        "print(f\"w,b after gradient descent is w:{w_final},b:{b_final}\")"
      ],
      "metadata": {
        "colab": {
          "base_uri": "https://localhost:8080/"
        },
        "id": "nY8F9TJszYbv",
        "outputId": "8ef6c66e-72d0-475c-8d7c-a64a6393b2e8"
      },
      "execution_count": 43,
      "outputs": [
        {
          "output_type": "stream",
          "name": "stdout",
          "text": [
            "Epoch:0,cost:722.302536415625,dw:-187.05,db:-41.6,w:1.8705,b:0.41600000000000004\n",
            "Epoch:1000,cost:9.843160453613736,dw:0.009041051303199054,db:-0.040947080590848374,w:10.39476569395715,b:3.6182376088988937\n",
            "Epoch:2000,cost:9.838740727882033,dw:0.001295675820112052,db:-0.005868138609925922,w:10.35493616351993,b:3.7986262537609927\n",
            "Epoch:3000,cost:9.83864995624651,dw:0.0001856836970233644,db:-0.000840964734195282,w:10.349228181363422,b:3.8244778054817132\n",
            "Epoch:4000,cost:9.838648091992866,dw:2.6610387250514124e-05,db:-0.00012051891258693103,w:10.348410168699417,b:3.828182599244531\n",
            "Epoch:5000,cost:9.838648053705112,dw:3.813542722497232e-06,db:-1.7271602123258843e-05,w:10.348292939055014,b:3.8287135343687866\n",
            "Epoch:6000,cost:9.838648052918762,dw:5.465199897969342e-07,db:-2.475198564866332e-06,w:10.348276138838916,b:3.8287896228433995\n",
            "Epoch:7000,cost:9.838648052902615,dw:7.832194413026627e-08,db:-3.547214628696338e-07,w:10.348273731194821,b:3.828800527105906\n",
            "Epoch:8000,cost:9.838648052902279,dw:1.1224381069041555e-08,db:-5.08352322015071e-08,w:10.348273386154611,b:3.8288020897990958\n",
            "Epoch:9000,cost:9.838648052902272,dw:1.6085621723505028e-09,db:-7.285214209673541e-09,w:10.348273336706795,b:3.828802313749128\n",
            "w,b after gradient descent is w:10.348273329622717,b:3.828802345833035\n"
          ]
        }
      ]
    },
    {
      "cell_type": "markdown",
      "source": [
        "# **MODEL**"
      ],
      "metadata": {
        "id": "oCyadsEdT5lu"
      }
    },
    {
      "cell_type": "code",
      "source": [
        "w=w_final\n",
        "b=b_final\n",
        "def linear_regression(x,w,b):\n",
        "  m=x_train.shape[0]\n",
        "  f_wb=np.zeros(m)\n",
        "  for i in range(m):\n",
        "    f_wb[i]=w*x[i]+b\n",
        "  return f_wb\n",
        "model=linear_regression(x_train,w,b)\n",
        "plt.scatter(x_train,y_train,c='g',label='Data')\n",
        "plt.plot(x_train,model,c='r',label='Prediction')\n",
        "plt.legend()\n",
        "plt.show()\n",
        ""
      ],
      "metadata": {
        "colab": {
          "base_uri": "https://localhost:8080/",
          "height": 430
        },
        "id": "90AJ7mjKQe16",
        "outputId": "cc37b9d8-ecfa-4a5e-aa67-43967cf362a8"
      },
      "execution_count": 44,
      "outputs": [
        {
          "output_type": "display_data",
          "data": {
            "text/plain": [
              "<Figure size 640x480 with 1 Axes>"
            ],
            "image/png": "[encoded data removed]"
          },
          "metadata": {}
        }
      ]
    },
    {
      "cell_type": "code",
      "source": [
        "model"
      ],
      "metadata": {
        "colab": {
          "base_uri": "https://localhost:8080/"
        },
        "id": "SvIAVeflSFtp",
        "outputId": "9dba29f8-59e7-4d3c-f66f-e5661cec315a"
      },
      "execution_count": 31,
      "outputs": [
        {
          "output_type": "execute_result",
          "data": {
            "text/plain": [
              "array([24.52534901, 34.87362233, 45.22189566, 39.01293167, 26.59500367,\n",
              "       22.45569434, 19.35121234, 61.77913299, 65.91844232, 76.26671565])"
            ]
          },
          "metadata": {},
          "execution_count": 31
        }
      ]
    }
  ]
}